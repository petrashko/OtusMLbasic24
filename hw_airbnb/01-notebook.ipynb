{
 "cells": [
  {
   "cell_type": "code",
   "execution_count": 1,
   "id": "ffc6af02-495a-413f-9d04-2eb4004205c4",
   "metadata": {
    "tags": []
   },
   "outputs": [],
   "source": [
    "import numpy as np\n",
    "import pandas as pd\n",
    "import matplotlib.pyplot as plt\n",
    "import seaborn as sns\n",
    "\n",
    "%matplotlib inline"
   ]
  },
  {
   "cell_type": "code",
   "execution_count": 2,
   "id": "8169f16c-70f3-43ac-8672-9413b843c47b",
   "metadata": {
    "tags": []
   },
   "outputs": [
    {
     "data": {
      "text/html": [
       "<div>\n",
       "<style scoped>\n",
       "    .dataframe tbody tr th:only-of-type {\n",
       "        vertical-align: middle;\n",
       "    }\n",
       "\n",
       "    .dataframe tbody tr th {\n",
       "        vertical-align: top;\n",
       "    }\n",
       "\n",
       "    .dataframe thead th {\n",
       "        text-align: right;\n",
       "    }\n",
       "</style>\n",
       "<table border=\"1\" class=\"dataframe\">\n",
       "  <thead>\n",
       "    <tr style=\"text-align: right;\">\n",
       "      <th></th>\n",
       "      <th>id</th>\n",
       "      <th>name</th>\n",
       "      <th>host_id</th>\n",
       "      <th>host_name</th>\n",
       "      <th>neighbourhood_group</th>\n",
       "      <th>neighbourhood</th>\n",
       "      <th>latitude</th>\n",
       "      <th>longitude</th>\n",
       "      <th>room_type</th>\n",
       "      <th>price</th>\n",
       "      <th>minimum_nights</th>\n",
       "      <th>number_of_reviews</th>\n",
       "      <th>last_review</th>\n",
       "      <th>reviews_per_month</th>\n",
       "      <th>calculated_host_listings_count</th>\n",
       "      <th>availability_365</th>\n",
       "    </tr>\n",
       "  </thead>\n",
       "  <tbody>\n",
       "    <tr>\n",
       "      <th>2127</th>\n",
       "      <td>976242</td>\n",
       "      <td>Cozy East Village Haven</td>\n",
       "      <td>854208</td>\n",
       "      <td>Anna</td>\n",
       "      <td>Manhattan</td>\n",
       "      <td>East Village</td>\n",
       "      <td>40.72820</td>\n",
       "      <td>-73.98893</td>\n",
       "      <td>Entire home/apt</td>\n",
       "      <td>200</td>\n",
       "      <td>10</td>\n",
       "      <td>35</td>\n",
       "      <td>2019-01-02</td>\n",
       "      <td>0.46</td>\n",
       "      <td>1</td>\n",
       "      <td>51</td>\n",
       "    </tr>\n",
       "    <tr>\n",
       "      <th>15662</th>\n",
       "      <td>12650991</td>\n",
       "      <td>Homey, Peaceful, and Spacious Space</td>\n",
       "      <td>709939</td>\n",
       "      <td>Vanessa</td>\n",
       "      <td>Brooklyn</td>\n",
       "      <td>Bedford-Stuyvesant</td>\n",
       "      <td>40.69527</td>\n",
       "      <td>-73.94784</td>\n",
       "      <td>Private room</td>\n",
       "      <td>50</td>\n",
       "      <td>30</td>\n",
       "      <td>4</td>\n",
       "      <td>2017-04-19</td>\n",
       "      <td>0.11</td>\n",
       "      <td>1</td>\n",
       "      <td>0</td>\n",
       "    </tr>\n",
       "    <tr>\n",
       "      <th>2750</th>\n",
       "      <td>1487222</td>\n",
       "      <td>2BR Sunlight &amp; Secret Garden Apartment</td>\n",
       "      <td>1308282</td>\n",
       "      <td>Sam</td>\n",
       "      <td>Brooklyn</td>\n",
       "      <td>Crown Heights</td>\n",
       "      <td>40.67838</td>\n",
       "      <td>-73.95549</td>\n",
       "      <td>Entire home/apt</td>\n",
       "      <td>145</td>\n",
       "      <td>4</td>\n",
       "      <td>18</td>\n",
       "      <td>2018-11-25</td>\n",
       "      <td>0.25</td>\n",
       "      <td>1</td>\n",
       "      <td>0</td>\n",
       "    </tr>\n",
       "  </tbody>\n",
       "</table>\n",
       "</div>"
      ],
      "text/plain": [
       "             id                                    name  host_id host_name  \\\n",
       "2127     976242                 Cozy East Village Haven   854208      Anna   \n",
       "15662  12650991     Homey, Peaceful, and Spacious Space   709939   Vanessa   \n",
       "2750    1487222  2BR Sunlight & Secret Garden Apartment  1308282       Sam   \n",
       "\n",
       "      neighbourhood_group       neighbourhood  latitude  longitude  \\\n",
       "2127            Manhattan        East Village  40.72820  -73.98893   \n",
       "15662            Brooklyn  Bedford-Stuyvesant  40.69527  -73.94784   \n",
       "2750             Brooklyn       Crown Heights  40.67838  -73.95549   \n",
       "\n",
       "             room_type  price  minimum_nights  number_of_reviews last_review  \\\n",
       "2127   Entire home/apt    200              10                 35  2019-01-02   \n",
       "15662     Private room     50              30                  4  2017-04-19   \n",
       "2750   Entire home/apt    145               4                 18  2018-11-25   \n",
       "\n",
       "       reviews_per_month  calculated_host_listings_count  availability_365  \n",
       "2127                0.46                               1                51  \n",
       "15662               0.11                               1                 0  \n",
       "2750                0.25                               1                 0  "
      ]
     },
     "execution_count": 2,
     "metadata": {},
     "output_type": "execute_result"
    }
   ],
   "source": [
    "# Загрузить данные в DataFrame из csv-файла\n",
    "df = pd.read_csv('AB_NYC_2019.csv')\n",
    "df.sample(3)"
   ]
  },
  {
   "cell_type": "code",
   "execution_count": 3,
   "id": "5692c28c-0b15-4be5-9774-f1adda275b7c",
   "metadata": {
    "tags": []
   },
   "outputs": [
    {
     "data": {
      "text/html": [
       "<div>\n",
       "<style scoped>\n",
       "    .dataframe tbody tr th:only-of-type {\n",
       "        vertical-align: middle;\n",
       "    }\n",
       "\n",
       "    .dataframe tbody tr th {\n",
       "        vertical-align: top;\n",
       "    }\n",
       "\n",
       "    .dataframe thead th {\n",
       "        text-align: right;\n",
       "    }\n",
       "</style>\n",
       "<table border=\"1\" class=\"dataframe\">\n",
       "  <thead>\n",
       "    <tr style=\"text-align: right;\">\n",
       "      <th></th>\n",
       "      <th>neighbourhood_group</th>\n",
       "      <th>neighbourhood</th>\n",
       "      <th>latitude</th>\n",
       "      <th>longitude</th>\n",
       "      <th>room_type</th>\n",
       "      <th>price</th>\n",
       "      <th>minimum_nights</th>\n",
       "      <th>number_of_reviews</th>\n",
       "      <th>reviews_per_month</th>\n",
       "      <th>calculated_host_listings_count</th>\n",
       "      <th>availability_365</th>\n",
       "    </tr>\n",
       "  </thead>\n",
       "  <tbody>\n",
       "    <tr>\n",
       "      <th>14236</th>\n",
       "      <td>Brooklyn</td>\n",
       "      <td>Bedford-Stuyvesant</td>\n",
       "      <td>40.68366</td>\n",
       "      <td>-73.94607</td>\n",
       "      <td>Private room</td>\n",
       "      <td>75</td>\n",
       "      <td>2</td>\n",
       "      <td>129</td>\n",
       "      <td>3.36</td>\n",
       "      <td>3</td>\n",
       "      <td>227</td>\n",
       "    </tr>\n",
       "    <tr>\n",
       "      <th>14308</th>\n",
       "      <td>Brooklyn</td>\n",
       "      <td>Bedford-Stuyvesant</td>\n",
       "      <td>40.69155</td>\n",
       "      <td>-73.94975</td>\n",
       "      <td>Entire home/apt</td>\n",
       "      <td>165</td>\n",
       "      <td>4</td>\n",
       "      <td>123</td>\n",
       "      <td>3.08</td>\n",
       "      <td>1</td>\n",
       "      <td>43</td>\n",
       "    </tr>\n",
       "    <tr>\n",
       "      <th>36616</th>\n",
       "      <td>Manhattan</td>\n",
       "      <td>Hell's Kitchen</td>\n",
       "      <td>40.76129</td>\n",
       "      <td>-73.99430</td>\n",
       "      <td>Private room</td>\n",
       "      <td>250</td>\n",
       "      <td>1</td>\n",
       "      <td>4</td>\n",
       "      <td>0.44</td>\n",
       "      <td>1</td>\n",
       "      <td>365</td>\n",
       "    </tr>\n",
       "  </tbody>\n",
       "</table>\n",
       "</div>"
      ],
      "text/plain": [
       "      neighbourhood_group       neighbourhood  latitude  longitude  \\\n",
       "14236            Brooklyn  Bedford-Stuyvesant  40.68366  -73.94607   \n",
       "14308            Brooklyn  Bedford-Stuyvesant  40.69155  -73.94975   \n",
       "36616           Manhattan      Hell's Kitchen  40.76129  -73.99430   \n",
       "\n",
       "             room_type  price  minimum_nights  number_of_reviews  \\\n",
       "14236     Private room     75               2                129   \n",
       "14308  Entire home/apt    165               4                123   \n",
       "36616     Private room    250               1                  4   \n",
       "\n",
       "       reviews_per_month  calculated_host_listings_count  availability_365  \n",
       "14236               3.36                               3               227  \n",
       "14308               3.08                               1                43  \n",
       "36616               0.44                               1               365  "
      ]
     },
     "execution_count": 3,
     "metadata": {},
     "output_type": "execute_result"
    }
   ],
   "source": [
    "# Удалить колонки\n",
    "df = df.drop(['id', 'name', 'host_id', 'host_name', 'last_review'], axis='columns')\n",
    "df.sample(3)"
   ]
  },
  {
   "cell_type": "code",
   "execution_count": 4,
   "id": "6c65a428-529a-411d-be8f-02345d0fd1f8",
   "metadata": {
    "tags": []
   },
   "outputs": [
    {
     "name": "stdout",
     "output_type": "stream",
     "text": [
      "<class 'pandas.core.frame.DataFrame'>\n",
      "RangeIndex: 48895 entries, 0 to 48894\n",
      "Data columns (total 11 columns):\n",
      " #   Column                          Non-Null Count  Dtype  \n",
      "---  ------                          --------------  -----  \n",
      " 0   neighbourhood_group             48895 non-null  object \n",
      " 1   neighbourhood                   48895 non-null  object \n",
      " 2   latitude                        48895 non-null  float64\n",
      " 3   longitude                       48895 non-null  float64\n",
      " 4   room_type                       48895 non-null  object \n",
      " 5   price                           48895 non-null  int64  \n",
      " 6   minimum_nights                  48895 non-null  int64  \n",
      " 7   number_of_reviews               48895 non-null  int64  \n",
      " 8   reviews_per_month               38843 non-null  float64\n",
      " 9   calculated_host_listings_count  48895 non-null  int64  \n",
      " 10  availability_365                48895 non-null  int64  \n",
      "dtypes: float64(3), int64(5), object(3)\n",
      "memory usage: 4.1+ MB\n"
     ]
    }
   ],
   "source": [
    "df.info()"
   ]
  },
  {
   "cell_type": "code",
   "execution_count": 5,
   "id": "2642dbde-1770-4d70-9ff7-6356312d8b3a",
   "metadata": {
    "tags": []
   },
   "outputs": [
    {
     "data": {
      "text/plain": [
       "longitude\n",
       "-73.95677    18\n",
       "-73.95427    18\n",
       "-73.95405    17\n",
       "-73.95060    16\n",
       "-73.94791    16\n",
       "             ..\n",
       "-73.85155     1\n",
       "-73.83167     1\n",
       "-73.85058     1\n",
       "-73.79232     1\n",
       "-73.80844     1\n",
       "Name: count, Length: 14718, dtype: int64"
      ]
     },
     "execution_count": 5,
     "metadata": {},
     "output_type": "execute_result"
    }
   ],
   "source": [
    "df['longitude'].value_counts()"
   ]
  },
  {
   "cell_type": "code",
   "execution_count": 6,
   "id": "578052c0-31a0-4619-b38c-1e67c54ca0ec",
   "metadata": {
    "tags": []
   },
   "outputs": [
    {
     "data": {
      "text/plain": [
       "neighbourhood_group                   0\n",
       "neighbourhood                         0\n",
       "latitude                              0\n",
       "longitude                             0\n",
       "room_type                             0\n",
       "price                                 0\n",
       "minimum_nights                        0\n",
       "number_of_reviews                     0\n",
       "reviews_per_month                 10052\n",
       "calculated_host_listings_count        0\n",
       "availability_365                      0\n",
       "dtype: int64"
      ]
     },
     "execution_count": 6,
     "metadata": {},
     "output_type": "execute_result"
    }
   ],
   "source": [
    "# Проверить есть ли ячейки со значением NaN\n",
    "df.isna().sum()"
   ]
  },
  {
   "cell_type": "code",
   "execution_count": 7,
   "id": "f50d05fc-b885-429a-91f1-a41deee6384b",
   "metadata": {
    "tags": []
   },
   "outputs": [
    {
     "data": {
      "text/plain": [
       "0"
      ]
     },
     "execution_count": 7,
     "metadata": {},
     "output_type": "execute_result"
    }
   ],
   "source": [
    "# В колонке 'reviews_per_month' заменить NaN на среднее значение\n",
    "df['reviews_per_month']\n",
    "average = df['reviews_per_month'].mean()\n",
    "df['reviews_per_month'] = df['reviews_per_month'].fillna(average)\n",
    "df['reviews_per_month'].isna().sum()"
   ]
  },
  {
   "cell_type": "code",
   "execution_count": 8,
   "id": "a9fe04d6-247e-4e6b-b203-fd4e041c8888",
   "metadata": {
    "tags": []
   },
   "outputs": [
    {
     "data": {
      "image/png": "[encoded data removed]",
      "text/plain": [
       "<Figure size 800x320 with 1 Axes>"
      ]
     },
     "metadata": {},
     "output_type": "display_data"
    }
   ],
   "source": [
    "fig, axes = plt.subplots(nrows=1, ncols=1, figsize=(10, 4), dpi=80)\n",
    "# Строим график рассеяния (между двумя переменными)\n",
    "sns.scatterplot(data=df, x='minimum_nights', y='price')\n",
    "axes.grid(axis='y');"
   ]
  },
  {
   "cell_type": "code",
   "execution_count": 9,
   "id": "384da6aa-ac70-43ba-895c-bc261f756311",
   "metadata": {
    "tags": []
   },
   "outputs": [],
   "source": [
    "# Найти выбросы с большим значением по колонке 'minimum_nights' и низкой ценой\n",
    "mask = (df['minimum_nights'] > 900) & (df['price'] < 1000)\n",
    "outliers = df[mask]\n",
    "# Удалить строки с выбросами из DataFrame'a\n",
    "df = df.drop(outliers.index, axis='rows')"
   ]
  },
  {
   "cell_type": "code",
   "execution_count": 10,
   "id": "523dd848-a04d-4549-90bb-e2e9f58f9f56",
   "metadata": {
    "tags": []
   },
   "outputs": [
    {
     "data": {
      "image/png": "[encoded data removed]",
      "text/plain": [
       "<Figure size 800x320 with 1 Axes>"
      ]
     },
     "metadata": {},
     "output_type": "display_data"
    }
   ],
   "source": [
    "fig, axes = plt.subplots(nrows=1, ncols=1, figsize=(10, 4), dpi=80)\n",
    "# Строим график рассеяния (между двумя переменными)\n",
    "sns.scatterplot(data=df, x='calculated_host_listings_count', y='price')\n",
    "axes.grid(axis='y');"
   ]
  },
  {
   "cell_type": "code",
   "execution_count": 11,
   "id": "f8d62be3-d1d3-44b0-814f-14e4a0019850",
   "metadata": {
    "tags": []
   },
   "outputs": [],
   "source": [
    "# Найти выбросы с большим значением по колонке 'calculated_host_listings_count' и низкой ценой\n",
    "mask = (df['calculated_host_listings_count'] > 250) & (df['price'] < 1000)\n",
    "outliers = df[mask]\n",
    "# Удалить строки с выбросами из DataFrame'a\n",
    "df = df.drop(outliers.index, axis='rows')"
   ]
  },
  {
   "cell_type": "code",
   "execution_count": 12,
   "id": "27b089c2-b38b-4d09-8dd7-a38cfb641b13",
   "metadata": {
    "tags": []
   },
   "outputs": [
    {
     "data": {
      "image/png": "[encoded data removed]",
      "text/plain": [
       "<Figure size 800x320 with 1 Axes>"
      ]
     },
     "metadata": {},
     "output_type": "display_data"
    }
   ],
   "source": [
    "fig, axes = plt.subplots(nrows=1, ncols=1, figsize=(10, 4), dpi=80)\n",
    "# Строим график рассеяния (между двумя переменными)\n",
    "sns.scatterplot(data=df, x='reviews_per_month', y='price')\n",
    "axes.grid(axis='y');"
   ]
  },
  {
   "cell_type": "code",
   "execution_count": 13,
   "id": "b71c4c53-d7d1-453e-a19d-0808465cd45b",
   "metadata": {
    "tags": []
   },
   "outputs": [],
   "source": [
    "# Найти выбросы с большим значением по колонке 'reviews_per_month' и низкой ценой\n",
    "mask = (df['reviews_per_month'] > 55) & (df['price'] < 1000)\n",
    "outliers = df[mask]\n",
    "# Удалить строки с выбросами из DataFrame'a\n",
    "df = df.drop(outliers.index, axis='rows')"
   ]
  },
  {
   "cell_type": "code",
   "execution_count": 14,
   "id": "6e97d142-dd57-4a66-8302-1a29b112dd3e",
   "metadata": {
    "tags": []
   },
   "outputs": [
    {
     "data": {
      "image/png": "[encoded data removed]",
      "text/plain": [
       "<Figure size 800x320 with 1 Axes>"
      ]
     },
     "metadata": {},
     "output_type": "display_data"
    }
   ],
   "source": [
    "fig, axes = plt.subplots(nrows=1, ncols=1, figsize=(10, 4), dpi=80)\n",
    "sns.boxplot(data=df, x='price');\n",
    "axes.grid(axis='x');"
   ]
  },
  {
   "cell_type": "code",
   "execution_count": 15,
   "id": "3d39ccab-7a10-446e-8f80-728e477bdd5a",
   "metadata": {
    "tags": []
   },
   "outputs": [],
   "source": [
    "# Найти выбросы с высокой ценой и ценой близкой к 0\n",
    "mask = (df['price'] < 10) | (df['price'] > 3000)\n",
    "outliers = df[mask]\n",
    "# Удалить строки с выбросами из DataFrame'a\n",
    "df = df.drop(outliers.index, axis='rows')"
   ]
  },
  {
   "cell_type": "code",
   "execution_count": 16,
   "id": "866e5a57-5717-490a-a59c-77cfa8feadd3",
   "metadata": {
    "tags": []
   },
   "outputs": [
    {
     "data": {
      "image/png": "[encoded data removed]",
      "text/plain": [
       "<Figure size 800x320 with 1 Axes>"
      ]
     },
     "metadata": {},
     "output_type": "display_data"
    }
   ],
   "source": [
    "fig, axes = plt.subplots(nrows=1, ncols=1, figsize=(10, 4), dpi=80)\n",
    "sns.boxplot(data=df, x='price');\n",
    "axes.grid(axis='x');"
   ]
  },
  {
   "cell_type": "code",
   "execution_count": 17,
   "id": "8338fd7d-8b03-4b63-a20d-de3c66665bea",
   "metadata": {
    "tags": []
   },
   "outputs": [
    {
     "data": {
      "text/plain": [
       "(48506, 11)"
      ]
     },
     "execution_count": 17,
     "metadata": {},
     "output_type": "execute_result"
    }
   ],
   "source": [
    "# Было 48895 строк. После удаления выбросов 48506 строк\n",
    "# Чтобы не загромождать блокнок, вывод графиков после удаления выбросов - пропустил\n",
    "df.shape"
   ]
  },
  {
   "cell_type": "code",
   "execution_count": 18,
   "id": "013c5b53-e18d-4b9d-98c5-060465c2196c",
   "metadata": {
    "tags": []
   },
   "outputs": [
    {
     "data": {
      "text/html": [
       "<div>\n",
       "<style scoped>\n",
       "    .dataframe tbody tr th:only-of-type {\n",
       "        vertical-align: middle;\n",
       "    }\n",
       "\n",
       "    .dataframe tbody tr th {\n",
       "        vertical-align: top;\n",
       "    }\n",
       "\n",
       "    .dataframe thead th {\n",
       "        text-align: right;\n",
       "    }\n",
       "</style>\n",
       "<table border=\"1\" class=\"dataframe\">\n",
       "  <thead>\n",
       "    <tr style=\"text-align: right;\">\n",
       "      <th></th>\n",
       "      <th>latitude</th>\n",
       "      <th>longitude</th>\n",
       "      <th>price</th>\n",
       "      <th>minimum_nights</th>\n",
       "      <th>number_of_reviews</th>\n",
       "      <th>reviews_per_month</th>\n",
       "      <th>calculated_host_listings_count</th>\n",
       "      <th>availability_365</th>\n",
       "    </tr>\n",
       "  </thead>\n",
       "  <tbody>\n",
       "    <tr>\n",
       "      <th>count</th>\n",
       "      <td>48506.000000</td>\n",
       "      <td>48506.000000</td>\n",
       "      <td>48506.000000</td>\n",
       "      <td>48506.000000</td>\n",
       "      <td>48506.000000</td>\n",
       "      <td>48506.000000</td>\n",
       "      <td>48506.000000</td>\n",
       "      <td>48506.000000</td>\n",
       "    </tr>\n",
       "    <tr>\n",
       "      <th>mean</th>\n",
       "      <td>40.728991</td>\n",
       "      <td>-73.951822</td>\n",
       "      <td>146.904156</td>\n",
       "      <td>6.866037</td>\n",
       "      <td>23.421412</td>\n",
       "      <td>1.369984</td>\n",
       "      <td>4.992578</td>\n",
       "      <td>111.407578</td>\n",
       "    </tr>\n",
       "    <tr>\n",
       "      <th>std</th>\n",
       "      <td>0.054692</td>\n",
       "      <td>0.046130</td>\n",
       "      <td>157.480851</td>\n",
       "      <td>17.548990</td>\n",
       "      <td>44.685317</td>\n",
       "      <td>1.478940</td>\n",
       "      <td>20.004927</td>\n",
       "      <td>130.984983</td>\n",
       "    </tr>\n",
       "    <tr>\n",
       "      <th>min</th>\n",
       "      <td>40.499790</td>\n",
       "      <td>-74.244420</td>\n",
       "      <td>10.000000</td>\n",
       "      <td>1.000000</td>\n",
       "      <td>0.000000</td>\n",
       "      <td>0.010000</td>\n",
       "      <td>1.000000</td>\n",
       "      <td>0.000000</td>\n",
       "    </tr>\n",
       "    <tr>\n",
       "      <th>25%</th>\n",
       "      <td>40.689880</td>\n",
       "      <td>-73.982718</td>\n",
       "      <td>69.000000</td>\n",
       "      <td>1.000000</td>\n",
       "      <td>1.000000</td>\n",
       "      <td>0.270000</td>\n",
       "      <td>1.000000</td>\n",
       "      <td>0.000000</td>\n",
       "    </tr>\n",
       "    <tr>\n",
       "      <th>50%</th>\n",
       "      <td>40.723200</td>\n",
       "      <td>-73.955445</td>\n",
       "      <td>105.000000</td>\n",
       "      <td>3.000000</td>\n",
       "      <td>5.000000</td>\n",
       "      <td>1.200000</td>\n",
       "      <td>1.000000</td>\n",
       "      <td>43.000000</td>\n",
       "    </tr>\n",
       "    <tr>\n",
       "      <th>75%</th>\n",
       "      <td>40.763287</td>\n",
       "      <td>-73.935970</td>\n",
       "      <td>175.000000</td>\n",
       "      <td>5.000000</td>\n",
       "      <td>24.000000</td>\n",
       "      <td>1.580000</td>\n",
       "      <td>2.000000</td>\n",
       "      <td>221.000000</td>\n",
       "    </tr>\n",
       "    <tr>\n",
       "      <th>max</th>\n",
       "      <td>40.913060</td>\n",
       "      <td>-73.712990</td>\n",
       "      <td>3000.000000</td>\n",
       "      <td>500.000000</td>\n",
       "      <td>629.000000</td>\n",
       "      <td>27.950000</td>\n",
       "      <td>232.000000</td>\n",
       "      <td>365.000000</td>\n",
       "    </tr>\n",
       "  </tbody>\n",
       "</table>\n",
       "</div>"
      ],
      "text/plain": [
       "           latitude     longitude         price  minimum_nights  \\\n",
       "count  48506.000000  48506.000000  48506.000000    48506.000000   \n",
       "mean      40.728991    -73.951822    146.904156        6.866037   \n",
       "std        0.054692      0.046130    157.480851       17.548990   \n",
       "min       40.499790    -74.244420     10.000000        1.000000   \n",
       "25%       40.689880    -73.982718     69.000000        1.000000   \n",
       "50%       40.723200    -73.955445    105.000000        3.000000   \n",
       "75%       40.763287    -73.935970    175.000000        5.000000   \n",
       "max       40.913060    -73.712990   3000.000000      500.000000   \n",
       "\n",
       "       number_of_reviews  reviews_per_month  calculated_host_listings_count  \\\n",
       "count       48506.000000       48506.000000                    48506.000000   \n",
       "mean           23.421412           1.369984                        4.992578   \n",
       "std            44.685317           1.478940                       20.004927   \n",
       "min             0.000000           0.010000                        1.000000   \n",
       "25%             1.000000           0.270000                        1.000000   \n",
       "50%             5.000000           1.200000                        1.000000   \n",
       "75%            24.000000           1.580000                        2.000000   \n",
       "max           629.000000          27.950000                      232.000000   \n",
       "\n",
       "       availability_365  \n",
       "count      48506.000000  \n",
       "mean         111.407578  \n",
       "std          130.984983  \n",
       "min            0.000000  \n",
       "25%            0.000000  \n",
       "50%           43.000000  \n",
       "75%          221.000000  \n",
       "max          365.000000  "
      ]
     },
     "execution_count": 18,
     "metadata": {},
     "output_type": "execute_result"
    }
   ],
   "source": [
    "# Считаем метрики для колонок с числами\n",
    "df.describe()"
   ]
  },
  {
   "cell_type": "code",
   "execution_count": 19,
   "id": "16a7c965-5091-4cd5-8f97-8592e905fc35",
   "metadata": {
    "tags": []
   },
   "outputs": [
    {
     "data": {
      "text/html": [
       "<div>\n",
       "<style scoped>\n",
       "    .dataframe tbody tr th:only-of-type {\n",
       "        vertical-align: middle;\n",
       "    }\n",
       "\n",
       "    .dataframe tbody tr th {\n",
       "        vertical-align: top;\n",
       "    }\n",
       "\n",
       "    .dataframe thead th {\n",
       "        text-align: right;\n",
       "    }\n",
       "</style>\n",
       "<table border=\"1\" class=\"dataframe\">\n",
       "  <thead>\n",
       "    <tr style=\"text-align: right;\">\n",
       "      <th></th>\n",
       "      <th>latitude</th>\n",
       "      <th>longitude</th>\n",
       "      <th>price</th>\n",
       "      <th>minimum_nights</th>\n",
       "      <th>number_of_reviews</th>\n",
       "      <th>reviews_per_month</th>\n",
       "      <th>calculated_host_listings_count</th>\n",
       "      <th>availability_365</th>\n",
       "    </tr>\n",
       "  </thead>\n",
       "  <tbody>\n",
       "    <tr>\n",
       "      <th>latitude</th>\n",
       "      <td>1.000000</td>\n",
       "      <td>0.083605</td>\n",
       "      <td>0.050479</td>\n",
       "      <td>0.026638</td>\n",
       "      <td>-0.015599</td>\n",
       "      <td>-0.008825</td>\n",
       "      <td>0.045087</td>\n",
       "      <td>-0.009550</td>\n",
       "    </tr>\n",
       "    <tr>\n",
       "      <th>longitude</th>\n",
       "      <td>0.083605</td>\n",
       "      <td>1.000000</td>\n",
       "      <td>-0.208659</td>\n",
       "      <td>-0.067905</td>\n",
       "      <td>0.056076</td>\n",
       "      <td>0.136961</td>\n",
       "      <td>-0.076784</td>\n",
       "      <td>0.095198</td>\n",
       "    </tr>\n",
       "    <tr>\n",
       "      <th>price</th>\n",
       "      <td>0.050479</td>\n",
       "      <td>-0.208659</td>\n",
       "      <td>1.000000</td>\n",
       "      <td>0.042272</td>\n",
       "      <td>-0.055925</td>\n",
       "      <td>-0.028483</td>\n",
       "      <td>0.079707</td>\n",
       "      <td>0.101974</td>\n",
       "    </tr>\n",
       "    <tr>\n",
       "      <th>minimum_nights</th>\n",
       "      <td>0.026638</td>\n",
       "      <td>-0.067905</td>\n",
       "      <td>0.042272</td>\n",
       "      <td>1.000000</td>\n",
       "      <td>-0.089747</td>\n",
       "      <td>-0.105842</td>\n",
       "      <td>0.210597</td>\n",
       "      <td>0.157811</td>\n",
       "    </tr>\n",
       "    <tr>\n",
       "      <th>number_of_reviews</th>\n",
       "      <td>-0.015599</td>\n",
       "      <td>0.056076</td>\n",
       "      <td>-0.055925</td>\n",
       "      <td>-0.089747</td>\n",
       "      <td>1.000000</td>\n",
       "      <td>0.537219</td>\n",
       "      <td>-0.072875</td>\n",
       "      <td>0.178200</td>\n",
       "    </tr>\n",
       "    <tr>\n",
       "      <th>reviews_per_month</th>\n",
       "      <td>-0.008825</td>\n",
       "      <td>0.136961</td>\n",
       "      <td>-0.028483</td>\n",
       "      <td>-0.105842</td>\n",
       "      <td>0.537219</td>\n",
       "      <td>1.000000</td>\n",
       "      <td>-0.036888</td>\n",
       "      <td>0.163817</td>\n",
       "    </tr>\n",
       "    <tr>\n",
       "      <th>calculated_host_listings_count</th>\n",
       "      <td>0.045087</td>\n",
       "      <td>-0.076784</td>\n",
       "      <td>0.079707</td>\n",
       "      <td>0.210597</td>\n",
       "      <td>-0.072875</td>\n",
       "      <td>-0.036888</td>\n",
       "      <td>1.000000</td>\n",
       "      <td>0.220285</td>\n",
       "    </tr>\n",
       "    <tr>\n",
       "      <th>availability_365</th>\n",
       "      <td>-0.009550</td>\n",
       "      <td>0.095198</td>\n",
       "      <td>0.101974</td>\n",
       "      <td>0.157811</td>\n",
       "      <td>0.178200</td>\n",
       "      <td>0.163817</td>\n",
       "      <td>0.220285</td>\n",
       "      <td>1.000000</td>\n",
       "    </tr>\n",
       "  </tbody>\n",
       "</table>\n",
       "</div>"
      ],
      "text/plain": [
       "                                latitude  longitude     price  minimum_nights  \\\n",
       "latitude                        1.000000   0.083605  0.050479        0.026638   \n",
       "longitude                       0.083605   1.000000 -0.208659       -0.067905   \n",
       "price                           0.050479  -0.208659  1.000000        0.042272   \n",
       "minimum_nights                  0.026638  -0.067905  0.042272        1.000000   \n",
       "number_of_reviews              -0.015599   0.056076 -0.055925       -0.089747   \n",
       "reviews_per_month              -0.008825   0.136961 -0.028483       -0.105842   \n",
       "calculated_host_listings_count  0.045087  -0.076784  0.079707        0.210597   \n",
       "availability_365               -0.009550   0.095198  0.101974        0.157811   \n",
       "\n",
       "                                number_of_reviews  reviews_per_month  \\\n",
       "latitude                                -0.015599          -0.008825   \n",
       "longitude                                0.056076           0.136961   \n",
       "price                                   -0.055925          -0.028483   \n",
       "minimum_nights                          -0.089747          -0.105842   \n",
       "number_of_reviews                        1.000000           0.537219   \n",
       "reviews_per_month                        0.537219           1.000000   \n",
       "calculated_host_listings_count          -0.072875          -0.036888   \n",
       "availability_365                         0.178200           0.163817   \n",
       "\n",
       "                                calculated_host_listings_count  \\\n",
       "latitude                                              0.045087   \n",
       "longitude                                            -0.076784   \n",
       "price                                                 0.079707   \n",
       "minimum_nights                                        0.210597   \n",
       "number_of_reviews                                    -0.072875   \n",
       "reviews_per_month                                    -0.036888   \n",
       "calculated_host_listings_count                        1.000000   \n",
       "availability_365                                      0.220285   \n",
       "\n",
       "                                availability_365  \n",
       "latitude                               -0.009550  \n",
       "longitude                               0.095198  \n",
       "price                                   0.101974  \n",
       "minimum_nights                          0.157811  \n",
       "number_of_reviews                       0.178200  \n",
       "reviews_per_month                       0.163817  \n",
       "calculated_host_listings_count          0.220285  \n",
       "availability_365                        1.000000  "
      ]
     },
     "execution_count": 19,
     "metadata": {},
     "output_type": "execute_result"
    }
   ],
   "source": [
    "# Считаем попарную корреляцию месжду признаками\n",
    "df.corr(numeric_only=True)"
   ]
  },
  {
   "cell_type": "code",
   "execution_count": 20,
   "id": "567c2293-7c62-4a46-b007-d0f362479b0d",
   "metadata": {
    "tags": []
   },
   "outputs": [
    {
     "data": {
      "image/png": "[encoded data removed]",
      "text/plain": [
       "<Figure size 1440x800 with 2 Axes>"
      ]
     },
     "metadata": {},
     "output_type": "display_data"
    }
   ],
   "source": [
    "'''\n",
    "sns.pairplot(\n",
    "    data=df,\n",
    "    hue='price',\n",
    "    corner=True\n",
    ");\n",
    "'''\n",
    "\n",
    "fig, axes = plt.subplots(nrows=1, ncols=1, figsize=(18, 10), dpi=80)\n",
    "# Строим график тепловой карты (корреляция между числовыми признаками)\n",
    "sns.heatmap(\n",
    "    #data=df,\n",
    "    data=df.corr(numeric_only=True),\n",
    "    annot=True,\n",
    "    linewidths=0.5,\n",
    "    cmap='viridis'\n",
    ");\n",
    "# Извините, это вместо графика pairplot (когда числовых признаков много он мне совсем не нравится)"
   ]
  },
  {
   "cell_type": "code",
   "execution_count": 21,
   "id": "7464e36a-2c3b-40b0-ab26-abb14be8707b",
   "metadata": {
    "tags": []
   },
   "outputs": [
    {
     "data": {
      "text/plain": [
       "0         175\n",
       "1        1540\n",
       "2        2655\n",
       "3         569\n",
       "4        1116\n",
       "         ... \n",
       "48890    3707\n",
       "48891    2462\n",
       "48892    2655\n",
       "48893    1942\n",
       "48894    1942\n",
       "Name: neighbourhood, Length: 48506, dtype: int64"
      ]
     },
     "execution_count": 21,
     "metadata": {},
     "output_type": "execute_result"
    }
   ],
   "source": [
    "neighbourhoodCount = df['neighbourhood'].value_counts()\n",
    "neighbourhoodCount = neighbourhoodCount.to_dict()\n",
    "\n",
    "def neighbourhoodToCount(value):\n",
    "    res = -1\n",
    "    for name in neighbourhoodCount.keys():\n",
    "        if value == name:\n",
    "            res = neighbourhoodCount.get(name)\n",
    "            break\n",
    "    return res\n",
    "\n",
    "# Заменить категориальный признак на кол-во каждой категории\n",
    "df['neighbourhood'] = df['neighbourhood'].apply(neighbourhoodToCount)\n",
    "df['neighbourhood']"
   ]
  },
  {
   "cell_type": "code",
   "execution_count": 22,
   "id": "42b6d333-771e-4303-882b-578640873df9",
   "metadata": {},
   "outputs": [
    {
     "name": "stdout",
     "output_type": "stream",
     "text": [
      "<class 'pandas.core.frame.DataFrame'>\n",
      "Index: 48506 entries, 0 to 48894\n",
      "Data columns (total 11 columns):\n",
      " #   Column                          Non-Null Count  Dtype  \n",
      "---  ------                          --------------  -----  \n",
      " 0   neighbourhood_group             48506 non-null  object \n",
      " 1   neighbourhood                   48506 non-null  int64  \n",
      " 2   latitude                        48506 non-null  float64\n",
      " 3   longitude                       48506 non-null  float64\n",
      " 4   room_type                       48506 non-null  object \n",
      " 5   price                           48506 non-null  int64  \n",
      " 6   minimum_nights                  48506 non-null  int64  \n",
      " 7   number_of_reviews               48506 non-null  int64  \n",
      " 8   reviews_per_month               48506 non-null  float64\n",
      " 9   calculated_host_listings_count  48506 non-null  int64  \n",
      " 10  availability_365                48506 non-null  int64  \n",
      "dtypes: float64(3), int64(6), object(2)\n",
      "memory usage: 4.4+ MB\n"
     ]
    }
   ],
   "source": [
    "fileName = 'AB_NYC_2019_MY.csv'\n",
    "# Записать данные DataFrame'a в csv-файл\n",
    "# index=False: Не сохранять колонку с индексом. (по умолчанию True)\n",
    "#df.to_csv(fileName, index=False)\n",
    "df.info()"
   ]
  },
  {
   "cell_type": "code",
   "execution_count": null,
   "id": "001dd76d-fdfe-4fa5-8fc6-212206d4960f",
   "metadata": {},
   "outputs": [],
   "source": []
  }
 ],
 "metadata": {
  "kernelspec": {
   "display_name": "Python 3 (ipykernel)",
   "language": "python",
   "name": "python3"
  },
  "language_info": {
   "codemirror_mode": {
    "name": "ipython",
    "version": 3
   },
   "file_extension": ".py",
   "mimetype": "text/x-python",
   "name": "python",
   "nbconvert_exporter": "python",
   "pygments_lexer": "ipython3",
   "version": "3.11.5"
  }
 },
 "nbformat": 4,
 "nbformat_minor": 5
}
