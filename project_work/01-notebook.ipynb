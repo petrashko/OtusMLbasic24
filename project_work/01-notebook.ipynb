{
 "cells": [
  {
   "cell_type": "code",
   "execution_count": 1,
   "id": "e25162fb",
   "metadata": {
    "tags": []
   },
   "outputs": [],
   "source": [
    "import numpy as np\n",
    "import pandas as pd\n",
    "import matplotlib.pyplot as plt\n",
    "import seaborn as sns\n",
    "\n",
    "%matplotlib inline"
   ]
  },
  {
   "cell_type": "markdown",
   "id": "cc3af9b5-06e5-484f-a886-9a0e7f41257e",
   "metadata": {
    "tags": []
   },
   "source": [
    "# Тема проекта:\n",
    "\n",
    "Существует ли конфликт интересов на веб-сайте, который зарабатывает на онлайн продаже билетов на фильмы и отображает рейтинги фильмов?\n",
    "\n",
    "## Цель проекта:\n",
    "\n",
    "**Провести анализ данных по мотивам статьи: [Be Suspicious Of Online Movie Ratings, Especially Fandango’s](http://fivethirtyeight.com/features/fandango-movies-ratings/) о рейтингах и посмотреть, предоставляла ли компания Fandango завышенные рейтинги в 2015 году для того, чтобы продавать больше билетов.**"
   ]
  },
  {
   "cell_type": "markdown",
   "id": "e77b08bc-16c2-4669-96ea-cfe2e02f34d4",
   "metadata": {},
   "source": [
    "----\n",
    "### Данные\n",
    "\n",
    "Исходные данные для статьи [Be Suspicious Of Online Movie Ratings, Especially Fandango’s](http://fivethirtyeight.com/features/fandango-movies-ratings/) находятся в свободном доступе по следующей ссылке на github: https://github.com/fivethirtyeight/data. Это два csv-файла. В одном файле данные о рейтингах от компании Fandango, а в другом файле агрегированные данные о рейтингах от других компаний, таких как Metacritic, IMDB и Rotten Tomatoes.\n",
    "\n",
    "#### all_sites_scores.csv"
   ]
  },
  {
   "cell_type": "markdown",
   "id": "8abe4153-324f-4794-8d61-d7ff8ebb6551",
   "metadata": {},
   "source": [
    "Файл `all_sites_scores.csv` содержит все фильмы, для которых есть рейтинг Rotten Tomatoes, рейтинг RT User, оценка Metacritic, оценка Metacritic User и оценка IMDb, а также как минимум 30 отзывов от фанатов на Fandango."
   ]
  },
  {
   "cell_type": "markdown",
   "id": "040eb9a3-8f47-41b1-aaef-88e6b4518194",
   "metadata": {},
   "source": [
    "Колонка | Определение\n",
    "--- | -----------\n",
    "FILM | Название фильма\n",
    "RottenTomatoes | Оценка \"Rotten Tomatoes Tomatometer\" для этого фильма\n",
    "RottenTomatoes_User | Оценка \"Rotten Tomatoes user\" для этого фильма\n",
    "Metacritic | Оценка \"Metacritic\" для этого фильма\n",
    "Metacritic_User | Оценка \"Metacritic user\" для этого фильма\n",
    "IMDB | Оценка \"IMDb user\" для этого фильма\n",
    "Metacritic_user_vote_count | Количество голосов за этот фильм от пользователей Metacritic\n",
    "IMDB_user_vote_count | Количество голосов за этот фильм от пользователей IMDb"
   ]
  },
  {
   "cell_type": "code",
   "execution_count": 2,
   "id": "b53b2687",
   "metadata": {
    "tags": []
   },
   "outputs": [
    {
     "data": {
      "text/html": [
       "<div>\n",
       "<style scoped>\n",
       "    .dataframe tbody tr th:only-of-type {\n",
       "        vertical-align: middle;\n",
       "    }\n",
       "\n",
       "    .dataframe tbody tr th {\n",
       "        vertical-align: top;\n",
       "    }\n",
       "\n",
       "    .dataframe thead th {\n",
       "        text-align: right;\n",
       "    }\n",
       "</style>\n",
       "<table border=\"1\" class=\"dataframe\">\n",
       "  <thead>\n",
       "    <tr style=\"text-align: right;\">\n",
       "      <th></th>\n",
       "      <th>FILM</th>\n",
       "      <th>RottenTomatoes</th>\n",
       "      <th>RottenTomatoes_User</th>\n",
       "      <th>Metacritic</th>\n",
       "      <th>Metacritic_User</th>\n",
       "      <th>IMDB</th>\n",
       "      <th>Metacritic_user_vote_count</th>\n",
       "      <th>IMDB_user_vote_count</th>\n",
       "    </tr>\n",
       "  </thead>\n",
       "  <tbody>\n",
       "    <tr>\n",
       "      <th>134</th>\n",
       "      <td>The Longest Ride (2015)</td>\n",
       "      <td>31</td>\n",
       "      <td>73</td>\n",
       "      <td>33</td>\n",
       "      <td>4.8</td>\n",
       "      <td>7.2</td>\n",
       "      <td>49</td>\n",
       "      <td>25214</td>\n",
       "    </tr>\n",
       "    <tr>\n",
       "      <th>38</th>\n",
       "      <td>Saint Laurent (2015)</td>\n",
       "      <td>51</td>\n",
       "      <td>45</td>\n",
       "      <td>52</td>\n",
       "      <td>6.8</td>\n",
       "      <td>6.3</td>\n",
       "      <td>8</td>\n",
       "      <td>2196</td>\n",
       "    </tr>\n",
       "    <tr>\n",
       "      <th>106</th>\n",
       "      <td>Cake (2015)</td>\n",
       "      <td>49</td>\n",
       "      <td>47</td>\n",
       "      <td>49</td>\n",
       "      <td>6.4</td>\n",
       "      <td>6.5</td>\n",
       "      <td>44</td>\n",
       "      <td>19627</td>\n",
       "    </tr>\n",
       "  </tbody>\n",
       "</table>\n",
       "</div>"
      ],
      "text/plain": [
       "                        FILM  RottenTomatoes  RottenTomatoes_User  Metacritic  \\\n",
       "134  The Longest Ride (2015)              31                   73          33   \n",
       "38      Saint Laurent (2015)              51                   45          52   \n",
       "106              Cake (2015)              49                   47          49   \n",
       "\n",
       "     Metacritic_User  IMDB  Metacritic_user_vote_count  IMDB_user_vote_count  \n",
       "134              4.8   7.2                          49                 25214  \n",
       "38               6.8   6.3                           8                  2196  \n",
       "106              6.4   6.5                          44                 19627  "
      ]
     },
     "execution_count": 2,
     "metadata": {},
     "output_type": "execute_result"
    }
   ],
   "source": [
    "# Загрузить данные в DataFrame из csv-файла\n",
    "allDf = pd.read_csv('all_sites_scores.csv')\n",
    "allDf.sample(3)"
   ]
  },
  {
   "cell_type": "markdown",
   "id": "9b319d28-259d-46a9-87e7-1509ac95efce",
   "metadata": {},
   "source": [
    "----\n",
    "\n",
    "#### fandango_scape.csv"
   ]
  },
  {
   "cell_type": "markdown",
   "id": "35bb1c83-a994-4d18-a32c-a25dff97da60",
   "metadata": {},
   "source": [
    "Файл `fandango_scrape.csv` содержит данные о фильмах, которые авторы статьи выгрузили с Fandango.\n",
    "\n",
    "Колонка | Определение\n",
    "--- | ---------\n",
    "FILM | Название фильма\n",
    "STARS | Количество звёзд на Fandango.com\n",
    "RATING |  Рейтинг Fandango - значение, прочитанное с HTML-страницы. Это средний рейтинг фильма.\n",
    "VOTES | Количество голосов пользователей, которые написали отзыв о фильме (на момент выгрузки данных)."
   ]
  },
  {
   "cell_type": "code",
   "execution_count": 3,
   "id": "0e6718ac",
   "metadata": {
    "tags": []
   },
   "outputs": [
    {
     "data": {
      "text/html": [
       "<div>\n",
       "<style scoped>\n",
       "    .dataframe tbody tr th:only-of-type {\n",
       "        vertical-align: middle;\n",
       "    }\n",
       "\n",
       "    .dataframe tbody tr th {\n",
       "        vertical-align: top;\n",
       "    }\n",
       "\n",
       "    .dataframe thead th {\n",
       "        text-align: right;\n",
       "    }\n",
       "</style>\n",
       "<table border=\"1\" class=\"dataframe\">\n",
       "  <thead>\n",
       "    <tr style=\"text-align: right;\">\n",
       "      <th></th>\n",
       "      <th>FILM</th>\n",
       "      <th>STARS</th>\n",
       "      <th>RATING</th>\n",
       "      <th>VOTES</th>\n",
       "    </tr>\n",
       "  </thead>\n",
       "  <tbody>\n",
       "    <tr>\n",
       "      <th>275</th>\n",
       "      <td>Kill Me Three Times (2015)</td>\n",
       "      <td>3.5</td>\n",
       "      <td>3.2</td>\n",
       "      <td>13</td>\n",
       "    </tr>\n",
       "    <tr>\n",
       "      <th>449</th>\n",
       "      <td>Electric Boogaloo: The Wild, Untold Story of C...</td>\n",
       "      <td>0.0</td>\n",
       "      <td>0.0</td>\n",
       "      <td>0</td>\n",
       "    </tr>\n",
       "    <tr>\n",
       "      <th>27</th>\n",
       "      <td>The Wedding Ringer (2015)</td>\n",
       "      <td>4.5</td>\n",
       "      <td>4.4</td>\n",
       "      <td>6506</td>\n",
       "    </tr>\n",
       "  </tbody>\n",
       "</table>\n",
       "</div>"
      ],
      "text/plain": [
       "                                                  FILM  STARS  RATING  VOTES\n",
       "275                         Kill Me Three Times (2015)    3.5     3.2     13\n",
       "449  Electric Boogaloo: The Wild, Untold Story of C...    0.0     0.0      0\n",
       "27                           The Wedding Ringer (2015)    4.5     4.4   6506"
      ]
     },
     "execution_count": 3,
     "metadata": {},
     "output_type": "execute_result"
    }
   ],
   "source": [
    "# Загрузить данные в DataFrame из csv-файла\n",
    "fanDf = pd.read_csv('fandango_scrape.csv')\n",
    "fanDf.sample(3)"
   ]
  }
 ],
 "metadata": {
  "kernelspec": {
   "display_name": "Python 3 (ipykernel)",
   "language": "python",
   "name": "python3"
  },
  "language_info": {
   "codemirror_mode": {
    "name": "ipython",
    "version": 3
   },
   "file_extension": ".py",
   "mimetype": "text/x-python",
   "name": "python",
   "nbconvert_exporter": "python",
   "pygments_lexer": "ipython3",
   "version": "3.11.5"
  }
 },
 "nbformat": 4,
 "nbformat_minor": 5
}
