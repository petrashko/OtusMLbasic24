{
 "cells": [
  {
   "cell_type": "code",
   "execution_count": 1,
   "id": "d45afb62",
   "metadata": {},
   "outputs": [],
   "source": [
    "import numpy as np\n",
    "import pandas as pd\n",
    "import matplotlib\n",
    "import matplotlib.pyplot as plt\n",
    "import seaborn as sns\n",
    "import sklearn\n",
    "#\n",
    "from sklearn.model_selection import train_test_split\n",
    "# Поиск по сетке оптимальных гиперпараметров модели обучения,\n",
    "# с применением алгоритма кросс-валидации\n",
    "from sklearn.model_selection import GridSearchCV\n",
    "# Методы для масштабирования признаков\n",
    "from sklearn.preprocessing import StandardScaler #, MinMaxScaler\n",
    "# Модель K-ближайших соседей - классификация\n",
    "from sklearn.neighbors import KNeighborsClassifier\n",
    "# Метрика (оценка) для задач классификации: accuracy, precision и recall\n",
    "from sklearn.metrics import accuracy_score, precision_score, recall_score\n",
    "# Матрица ошибок и метод для вычисления ошибок 1-го и 2-го рода\n",
    "from sklearn.metrics import confusion_matrix, classification_report\n",
    "# Инструменты для визуализации матрицы ошибок\n",
    "from sklearn.metrics import ConfusionMatrixDisplay\n",
    "# Инструменты для визуализации Precision, Recall и ROC-графика\n",
    "from sklearn.metrics import PrecisionRecallDisplay, RocCurveDisplay\n",
    "\n",
    "%matplotlib inline"
   ]
  },
  {
   "cell_type": "code",
   "execution_count": 2,
   "id": "694b0bf8",
   "metadata": {},
   "outputs": [
    {
     "name": "stdout",
     "output_type": "stream",
     "text": [
      "numpy: 1.24.3, pandas: 2.0.3, matplotlib: 3.7.2, seaborn: 0.12.2, sklearn: 1.3.0\n"
     ]
    }
   ],
   "source": [
    "print(f'numpy: {np.__version__}, pandas: {pd.__version__}, matplotlib: {matplotlib.__version__}, seaborn: {sns.__version__}, sklearn: {sklearn.__version__}')"
   ]
  },
  {
   "cell_type": "code",
   "execution_count": 3,
   "id": "a9a2c2a5",
   "metadata": {},
   "outputs": [],
   "source": [
    "def targetToInt(target):\n",
    "    if target == 'M':\n",
    "        return 1\n",
    "    else:\n",
    "        return 0"
   ]
  },
  {
   "cell_type": "code",
   "execution_count": 4,
   "id": "74c8b0d0",
   "metadata": {},
   "outputs": [
    {
     "data": {
      "text/html": [
       "<div>\n",
       "<style scoped>\n",
       "    .dataframe tbody tr th:only-of-type {\n",
       "        vertical-align: middle;\n",
       "    }\n",
       "\n",
       "    .dataframe tbody tr th {\n",
       "        vertical-align: top;\n",
       "    }\n",
       "\n",
       "    .dataframe thead th {\n",
       "        text-align: right;\n",
       "    }\n",
       "</style>\n",
       "<table border=\"1\" class=\"dataframe\">\n",
       "  <thead>\n",
       "    <tr style=\"text-align: right;\">\n",
       "      <th></th>\n",
       "      <th>id</th>\n",
       "      <th>diagnosis</th>\n",
       "      <th>radius_mean</th>\n",
       "      <th>texture_mean</th>\n",
       "      <th>perimeter_mean</th>\n",
       "      <th>area_mean</th>\n",
       "      <th>smoothness_mean</th>\n",
       "      <th>compactness_mean</th>\n",
       "      <th>concavity_mean</th>\n",
       "      <th>concave points_mean</th>\n",
       "      <th>...</th>\n",
       "      <th>texture_worst</th>\n",
       "      <th>perimeter_worst</th>\n",
       "      <th>area_worst</th>\n",
       "      <th>smoothness_worst</th>\n",
       "      <th>compactness_worst</th>\n",
       "      <th>concavity_worst</th>\n",
       "      <th>concave points_worst</th>\n",
       "      <th>symmetry_worst</th>\n",
       "      <th>fractal_dimension_worst</th>\n",
       "      <th>Unnamed: 32</th>\n",
       "    </tr>\n",
       "  </thead>\n",
       "  <tbody>\n",
       "    <tr>\n",
       "      <th>94</th>\n",
       "      <td>862028</td>\n",
       "      <td>M</td>\n",
       "      <td>15.06</td>\n",
       "      <td>19.83</td>\n",
       "      <td>100.30</td>\n",
       "      <td>705.6</td>\n",
       "      <td>0.10390</td>\n",
       "      <td>0.15530</td>\n",
       "      <td>0.17000</td>\n",
       "      <td>0.08815</td>\n",
       "      <td>...</td>\n",
       "      <td>24.23</td>\n",
       "      <td>123.50</td>\n",
       "      <td>1025.0</td>\n",
       "      <td>0.15510</td>\n",
       "      <td>0.4203</td>\n",
       "      <td>0.5203</td>\n",
       "      <td>0.21150</td>\n",
       "      <td>0.2834</td>\n",
       "      <td>0.08234</td>\n",
       "      <td>NaN</td>\n",
       "    </tr>\n",
       "    <tr>\n",
       "      <th>354</th>\n",
       "      <td>901011</td>\n",
       "      <td>B</td>\n",
       "      <td>11.14</td>\n",
       "      <td>14.07</td>\n",
       "      <td>71.24</td>\n",
       "      <td>384.6</td>\n",
       "      <td>0.07274</td>\n",
       "      <td>0.06064</td>\n",
       "      <td>0.04505</td>\n",
       "      <td>0.01471</td>\n",
       "      <td>...</td>\n",
       "      <td>15.82</td>\n",
       "      <td>79.62</td>\n",
       "      <td>453.5</td>\n",
       "      <td>0.08864</td>\n",
       "      <td>0.1256</td>\n",
       "      <td>0.1201</td>\n",
       "      <td>0.03922</td>\n",
       "      <td>0.2576</td>\n",
       "      <td>0.07018</td>\n",
       "      <td>NaN</td>\n",
       "    </tr>\n",
       "    <tr>\n",
       "      <th>335</th>\n",
       "      <td>89742801</td>\n",
       "      <td>M</td>\n",
       "      <td>17.06</td>\n",
       "      <td>21.00</td>\n",
       "      <td>111.80</td>\n",
       "      <td>918.6</td>\n",
       "      <td>0.11190</td>\n",
       "      <td>0.10560</td>\n",
       "      <td>0.15080</td>\n",
       "      <td>0.09934</td>\n",
       "      <td>...</td>\n",
       "      <td>33.15</td>\n",
       "      <td>143.20</td>\n",
       "      <td>1362.0</td>\n",
       "      <td>0.14490</td>\n",
       "      <td>0.2053</td>\n",
       "      <td>0.3920</td>\n",
       "      <td>0.18270</td>\n",
       "      <td>0.2623</td>\n",
       "      <td>0.07599</td>\n",
       "      <td>NaN</td>\n",
       "    </tr>\n",
       "  </tbody>\n",
       "</table>\n",
       "<p>3 rows × 33 columns</p>\n",
       "</div>"
      ],
      "text/plain": [
       "           id diagnosis  radius_mean  texture_mean  perimeter_mean  area_mean  \\\n",
       "94     862028         M        15.06         19.83          100.30      705.6   \n",
       "354    901011         B        11.14         14.07           71.24      384.6   \n",
       "335  89742801         M        17.06         21.00          111.80      918.6   \n",
       "\n",
       "     smoothness_mean  compactness_mean  concavity_mean  concave points_mean  \\\n",
       "94           0.10390           0.15530         0.17000              0.08815   \n",
       "354          0.07274           0.06064         0.04505              0.01471   \n",
       "335          0.11190           0.10560         0.15080              0.09934   \n",
       "\n",
       "     ...  texture_worst  perimeter_worst  area_worst  smoothness_worst  \\\n",
       "94   ...          24.23           123.50      1025.0           0.15510   \n",
       "354  ...          15.82            79.62       453.5           0.08864   \n",
       "335  ...          33.15           143.20      1362.0           0.14490   \n",
       "\n",
       "     compactness_worst  concavity_worst  concave points_worst  symmetry_worst  \\\n",
       "94              0.4203           0.5203               0.21150          0.2834   \n",
       "354             0.1256           0.1201               0.03922          0.2576   \n",
       "335             0.2053           0.3920               0.18270          0.2623   \n",
       "\n",
       "     fractal_dimension_worst  Unnamed: 32  \n",
       "94                   0.08234          NaN  \n",
       "354                  0.07018          NaN  \n",
       "335                  0.07599          NaN  \n",
       "\n",
       "[3 rows x 33 columns]"
      ]
     },
     "execution_count": 4,
     "metadata": {},
     "output_type": "execute_result"
    }
   ],
   "source": [
    "# Загрузить данные в DataFrame из csv-файла\n",
    "df = pd.read_csv('data.csv')\n",
    "df.sample(3)"
   ]
  },
  {
   "cell_type": "code",
   "execution_count": 5,
   "id": "10ed0667",
   "metadata": {},
   "outputs": [],
   "source": [
    "# Удилить колонки 'id' и 'Unnamed: 32'\n",
    "df = df.drop(labels=['id', 'Unnamed: 32'], axis='columns')\n",
    "#df.info()"
   ]
  },
  {
   "cell_type": "code",
   "execution_count": 6,
   "id": "263ca931",
   "metadata": {},
   "outputs": [
    {
     "data": {
      "text/plain": [
       "diagnosis\n",
       "0    357\n",
       "1    212\n",
       "Name: count, dtype: int64"
      ]
     },
     "execution_count": 6,
     "metadata": {},
     "output_type": "execute_result"
    }
   ],
   "source": [
    "# Перевести целевую переменную в метки класса 0 и 1\n",
    "df['diagnosis'] = df['diagnosis'].apply(targetToInt)\n",
    "df['diagnosis'].value_counts()"
   ]
  },
  {
   "cell_type": "code",
   "execution_count": 7,
   "id": "c644e619",
   "metadata": {},
   "outputs": [],
   "source": [
    "targetName = 'diagnosis'\n",
    "# Признаки - Features\n",
    "#X = df.drop(targetName, axis='columns')\n",
    "# Отобрали только наиболее значимые признаки (иначе НЕ работает)\n",
    "X = df[[\n",
    "    'concave points_worst', 'perimeter_worst', 'concave points_mean', 'radius_worst', 'perimeter_mean', 'area_worst',\n",
    "    'radius_mean', 'area_mean', 'concavity_worst', 'concavity_mean', 'compactness_worst', 'compactness_mean',\n",
    "    'perimeter_se', 'area_se', 'radius_se'\n",
    "]]\n",
    "# Целевая переменная\n",
    "y = df[targetName]"
   ]
  },
  {
   "cell_type": "code",
   "execution_count": 8,
   "id": "68a19765",
   "metadata": {},
   "outputs": [
    {
     "name": "stdout",
     "output_type": "stream",
     "text": [
      "3.496179709037344e-18 1.0\n",
      "\n",
      "(398, 15) (171, 15)\n"
     ]
    }
   ],
   "source": [
    "# Разбить набор данных на тренировочные и тестовые данные\n",
    "X_train, X_test, y_train, y_test = train_test_split(X, y, test_size=0.3, random_state=101)\n",
    "\n",
    "# Создать объект для масштабирования признаков\n",
    "standardScaler = StandardScaler()\n",
    "\n",
    "# На основе анализа ТОЛЬКО тренировочных признаков,\n",
    "# подготовить объект к масштабированию признаков\n",
    "standardScaler.fit(X_train)  # ВАЖНО! В этот метод передаем только тренировочный набор признаков\n",
    "\n",
    "# Масштабирование тренировочных признаков\n",
    "# mean = 0; std = 1\n",
    "X_scaled_train = standardScaler.transform(X_train)\n",
    "print(X_scaled_train.mean(), X_scaled_train.std(), end='\\n\\n')\n",
    "\n",
    "# Масштабирование тестовых признаков\n",
    "# mean = 0; std = 1\n",
    "X_scaled_test = standardScaler.transform(X_test)\n",
    "print(X_scaled_train.shape, X_scaled_test.shape)"
   ]
  },
  {
   "cell_type": "code",
   "execution_count": 9,
   "id": "bf1f8ee7",
   "metadata": {},
   "outputs": [],
   "source": [
    "# Создать объект модели обучения\n",
    "knnModel = KNeighborsClassifier()\n",
    "\n",
    "# Обучить модель\n",
    "knnModel.fit(X_scaled_train, y_train)\n",
    "\n",
    "# Вычислить целевые переменные, на основе обученной модели\n",
    "yPredict = knnModel.predict(X_scaled_test)\n",
    "#yPredict"
   ]
  },
  {
   "cell_type": "code",
   "execution_count": 10,
   "id": "187c7bf0",
   "metadata": {},
   "outputs": [
    {
     "name": "stdout",
     "output_type": "stream",
     "text": [
      "Accuracy: 0.912\n",
      "\n",
      "Precision: 0.870\n",
      "\n",
      "Recall: 0.909\n"
     ]
    }
   ],
   "source": [
    "# Оценки (метрики)\n",
    "\n",
    "# Accuracy - Процент правильных ответов\n",
    "accuracy = accuracy_score(y_test, yPredict)\n",
    "print(f'Accuracy: {accuracy:0.3f}', end='\\n\\n')\n",
    "\n",
    "# Precision - Доля объектов, названных классификатором положительными\n",
    "#     и при этом действительно являющимися положительными\n",
    "precision = precision_score(y_test, yPredict)\n",
    "print(f'Precision: {precision:0.3f}', end='\\n\\n')\n",
    "\n",
    "# Recall - Доля объектов положительного класса из всех объектов\n",
    "#     положительного класса, которую  нашел алгоритм\n",
    "recall = recall_score(y_test, yPredict)\n",
    "print(f'Recall: {recall:0.3f}')"
   ]
  },
  {
   "cell_type": "code",
   "execution_count": 11,
   "id": "53272e6d",
   "metadata": {},
   "outputs": [
    {
     "data": {
      "text/plain": [
       "array([[96,  9],\n",
       "       [ 6, 60]], dtype=int64)"
      ]
     },
     "execution_count": 11,
     "metadata": {},
     "output_type": "execute_result"
    }
   ],
   "source": [
    "# Вычислить матрицу ошибок\n",
    "# По главной диагонали: правильные ответы.\n",
    "# По второй диагонали: ошибки\n",
    "# confusionMatrix[0][1]: Модель выдала True, там где на самом деле было Fale\n",
    "# confusionMatrix[1][0]: Модель выдала False, там где на самом деле было True\n",
    "confusionMatrix = confusion_matrix(y_test, yPredict)\n",
    "confusionMatrix"
   ]
  },
  {
   "cell_type": "code",
   "execution_count": 12,
   "id": "1c1679ab",
   "metadata": {},
   "outputs": [
    {
     "data": {
      "image/png": "[encoded data removed]",
      "text/plain": [
       "<Figure size 800x400 with 2 Axes>"
      ]
     },
     "metadata": {},
     "output_type": "display_data"
    }
   ],
   "source": [
    "fig, axes = plt.subplots(nrows=1, ncols=1, figsize=(8, 4), dpi=100)\n",
    "# Визуализация матрицы ошибок (на графике)\n",
    "ConfusionMatrixDisplay.from_estimator(estimator=knnModel, X=X_scaled_test, y=y_test, ax=axes);"
   ]
  },
  {
   "cell_type": "code",
   "execution_count": 13,
   "id": "8c52ad8f",
   "metadata": {},
   "outputs": [
    {
     "name": "stdout",
     "output_type": "stream",
     "text": [
      "              precision    recall  f1-score   support\n",
      "\n",
      "           0       0.94      0.91      0.93       105\n",
      "           1       0.87      0.91      0.89        66\n",
      "\n",
      "    accuracy                           0.91       171\n",
      "   macro avg       0.91      0.91      0.91       171\n",
      "weighted avg       0.91      0.91      0.91       171\n",
      "\n"
     ]
    }
   ],
   "source": [
    "# Матрица с метриками (по отдельным классам): Precision, Recall и F1-score\n",
    "# F1-score - Гармоническое среднее между Precision и Recall\n",
    "# support - Количество значений отдельных классов, в тестовом наборе данных\n",
    "# macro avg - Обычное среднее\n",
    "# weighted avg - Взвешенное среднее, с учетом количества значений отдельных классов\n",
    "classificationReport = classification_report(y_test, yPredict)\n",
    "print(classificationReport)"
   ]
  },
  {
   "cell_type": "code",
   "execution_count": 14,
   "id": "701271a4",
   "metadata": {},
   "outputs": [
    {
     "data": {
      "image/png": "[encoded data removed]",
      "text/plain": [
       "<Figure size 1000x400 with 1 Axes>"
      ]
     },
     "metadata": {},
     "output_type": "display_data"
    }
   ],
   "source": [
    "fig, axes = plt.subplots(nrows=1, ncols=1, figsize=(10, 4), dpi=100)\n",
    "# Визуализация Precision и Recall\n",
    "PrecisionRecallDisplay.from_estimator(estimator=knnModel, X=X_scaled_test, y=y_test, ax=axes);"
   ]
  },
  {
   "cell_type": "code",
   "execution_count": 15,
   "id": "0e26d888",
   "metadata": {},
   "outputs": [
    {
     "data": {
      "image/png": "[encoded data removed]",
      "text/plain": [
       "<Figure size 1000x400 with 1 Axes>"
      ]
     },
     "metadata": {},
     "output_type": "display_data"
    }
   ],
   "source": [
    "fig, axes = plt.subplots(nrows=1, ncols=1, figsize=(10, 4), dpi=100)\n",
    "# ROC-график\n",
    "RocCurveDisplay.from_estimator(estimator=knnModel, X=X_scaled_test, y=y_test, ax=axes);"
   ]
  },
  {
   "cell_type": "code",
   "execution_count": 16,
   "id": "06b824ae",
   "metadata": {},
   "outputs": [],
   "source": [
    "# Поиск по сетке оптимальных гиперпараметров"
   ]
  },
  {
   "cell_type": "code",
   "execution_count": 17,
   "id": "a53c6a5f",
   "metadata": {},
   "outputs": [],
   "source": [
    "# Создать объект модели обучения\n",
    "knnModel = KNeighborsClassifier(n_neighbors=1)\n",
    "\n",
    "# Значения гиперпараметров модели обучения, которые будут проверяться как оптимальные\n",
    "paramsGrid = {\n",
    "    'n_neighbors': [1, 3, 5, 7, 9, 11]\n",
    "}\n",
    "\n",
    "# Поиск по сетке\n",
    "gridSearchCV = GridSearchCV(estimator=knnModel, param_grid=paramsGrid, cv=5, verbose=1)"
   ]
  },
  {
   "cell_type": "code",
   "execution_count": 18,
   "id": "76b46a90",
   "metadata": {},
   "outputs": [
    {
     "name": "stdout",
     "output_type": "stream",
     "text": [
      "Fitting 5 folds for each of 6 candidates, totalling 30 fits\n"
     ]
    },
    {
     "data": {
      "text/plain": [
       "{'n_neighbors': 7}"
      ]
     },
     "execution_count": 18,
     "metadata": {},
     "output_type": "execute_result"
    }
   ],
   "source": [
    "# Найти оптимальную комбинацию гиперпараметров (с помощью метода кросс-валидации)\n",
    "# и вернуть на выходе обученную модель\n",
    "gridSearchCV.fit(X_scaled_train, y_train)\n",
    "\n",
    "# Какая комбинация гиперпараметров лучшая\n",
    "bestParams = gridSearchCV.best_params_\n",
    "bestParams"
   ]
  },
  {
   "cell_type": "code",
   "execution_count": 19,
   "id": "7ea69e16",
   "metadata": {},
   "outputs": [],
   "source": [
    "# Вычислить целевые переменные, на основе обученной модели\n",
    "yPredict = gridSearchCV.predict(X_scaled_test)\n",
    "#yPredict"
   ]
  },
  {
   "cell_type": "code",
   "execution_count": 20,
   "id": "57b7e9fc",
   "metadata": {},
   "outputs": [
    {
     "name": "stdout",
     "output_type": "stream",
     "text": [
      "Accuracy: 0.924\n",
      "\n",
      "Precision: 0.896\n",
      "\n",
      "Recall: 0.909\n"
     ]
    }
   ],
   "source": [
    "# Оценки (метрики)\n",
    "\n",
    "# Accuracy - Процент правильных ответов\n",
    "accuracy = accuracy_score(y_test, yPredict)\n",
    "print(f'Accuracy: {accuracy:0.3f}', end='\\n\\n')\n",
    "\n",
    "# Precision - Доля объектов, названных классификатором положительными\n",
    "#     и при этом действительно являющимися положительными\n",
    "precision = precision_score(y_test, yPredict)\n",
    "print(f'Precision: {precision:0.3f}', end='\\n\\n')\n",
    "\n",
    "# Recall - Доля объектов положительного класса из всех объектов\n",
    "#     положительного класса, которую  нашел алгоритм\n",
    "recall = recall_score(y_test, yPredict)\n",
    "print(f'Recall: {recall:0.3f}')"
   ]
  },
  {
   "cell_type": "code",
   "execution_count": 21,
   "id": "630b7d05",
   "metadata": {},
   "outputs": [
    {
     "data": {
      "image/png": "[encoded data removed]",
      "text/plain": [
       "<Figure size 800x400 with 2 Axes>"
      ]
     },
     "metadata": {},
     "output_type": "display_data"
    }
   ],
   "source": [
    "fig, axes = plt.subplots(nrows=1, ncols=1, figsize=(8, 4), dpi=100)\n",
    "# Визуализация матрицы ошибок (на графике)\n",
    "ConfusionMatrixDisplay.from_estimator(estimator=gridSearchCV, X=X_scaled_test, y=y_test, ax=axes);"
   ]
  },
  {
   "cell_type": "code",
   "execution_count": 22,
   "id": "e8004dc4",
   "metadata": {},
   "outputs": [],
   "source": [
    "# Без подбора гиперпараметров (при числе соседей 5), метрики были: Accuracy: 0.912, Precision: 0.870, Recall: 0.909\n",
    "\n",
    "# После поиска по сетке оптимального количества ближайщих соседей,\n",
    "# метрики стали: Accuracy: 0.924, Precision: 0.896, Recall: 0.909\n",
    "\n",
    "# По метрикам вывод делать сложно (они практически не изменились). Но на матрице ошибок видно,\n",
    "# что при оптимальном числе соседей - 7, модель сделала на 2 ошибки меньше."
   ]
  }
 ],
 "metadata": {
  "kernelspec": {
   "display_name": "Python 3 (ipykernel)",
   "language": "python",
   "name": "python3"
  },
  "language_info": {
   "codemirror_mode": {
    "name": "ipython",
    "version": 3
   },
   "file_extension": ".py",
   "mimetype": "text/x-python",
   "name": "python",
   "nbconvert_exporter": "python",
   "pygments_lexer": "ipython3",
   "version": "3.11.5"
  }
 },
 "nbformat": 4,
 "nbformat_minor": 5
}
